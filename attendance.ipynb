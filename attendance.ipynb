{
 "cells": [
  {
   "attachments": {},
   "cell_type": "markdown",
   "metadata": {},
   "source": [
    "# 課題4: 出欠表まとめ"
   ]
  },
  {
   "cell_type": "code",
   "execution_count": null,
   "metadata": {},
   "outputs": [],
   "source": [
    "import pandas\n",
    "import os\n",
    "import glob"
   ]
  },
  {
   "cell_type": "code",
   "execution_count": null,
   "metadata": {},
   "outputs": [],
   "source": [
    "def getData()->dict[str,pandas.DataFrame]:\n",
    "    \"\"\"\n",
    "    フォルダ内から出欠ファイルを読み込み、姓からdataFrameへの辞書型を返す\n",
    "    \"\"\"\n",
    "    sep = os.sep\n",
    "    filenames = '出欠/*.xlsx'.replace('/',sep)\n",
    "    fileList = glob.glob('出欠/*.xlsx') #ファイル一覧を取得\n",
    "    dataList=dict()\n",
    "    for fName in fileList:\n",
    "        #ファイル名に付いている姓を取得\n",
    "        #課題\n",
    "\n",
    "        #Excelファイルを読む\n",
    "        with pandas.ExcelFile(fName) as f:\n",
    "            df = pandas.read_excel(f, index_col=0)\n",
    "        dataList[name] = df\n",
    "    return dataList"
   ]
  }
 ],
 "metadata": {
  "kernelspec": {
   "display_name": "Python 3.10.2 ('myenv')",
   "language": "python",
   "name": "python3"
  },
  "language_info": {
   "codemirror_mode": {
    "name": "ipython",
    "version": 3
   },
   "file_extension": ".py",
   "mimetype": "text/x-python",
   "name": "python",
   "nbconvert_exporter": "python",
   "pygments_lexer": "ipython3",
   "version": "3.10.2"
  },
  "orig_nbformat": 4,
  "vscode": {
   "interpreter": {
    "hash": "b3b804b6b7a7d9b475cf928428dd1242016eacc24c47853aaf0f8d1d2228aa39"
   }
  }
 },
 "nbformat": 4,
 "nbformat_minor": 2
}
