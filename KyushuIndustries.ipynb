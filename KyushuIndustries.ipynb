{
 "cells": [
  {
   "attachments": {},
   "cell_type": "markdown",
   "metadata": {},
   "source": [
    "# 課題2: 九州各県の事業所及び従業員数の業種別割合"
   ]
  },
  {
   "cell_type": "code",
   "execution_count": null,
   "metadata": {},
   "outputs": [],
   "source": [
    "import pandas\n",
    "import matplotlib.pyplot as plt\n",
    "import japanize_matplotlib"
   ]
  },
  {
   "cell_type": "code",
   "execution_count": null,
   "metadata": {},
   "outputs": [],
   "source": [
    "def getCompanies(filename:str) -> pandas.DataFrame:\n",
    "    \"\"\"\n",
    "    Excelファイルを読み込む:事業所数\n",
    "    \"\"\"\n",
    "    with pandas.ExcelFile(filename) as f:\n",
    "        data = pandas.read_excel(f, header=2, skipfooter=16, index_col=0)\n",
    "    data.drop(columns={'全産業'},inplace=True)\n",
    "    return data"
   ]
  },
  {
   "cell_type": "code",
   "execution_count": null,
   "metadata": {},
   "outputs": [],
   "source": [
    "def getWorkers(filename:str) -> pandas.DataFrame:\n",
    "    \"\"\"\n",
    "    Excelファイルを読み込む:従業員数\n",
    "    \"\"\"\n",
    "    with pandas.ExcelFile(filename) as f:\n",
    "        #課題\n",
    "\n",
    "\n",
    "    data.drop(columns={'全産業'},inplace=True)\n",
    "    return data"
   ]
  }
 ],
 "metadata": {
  "kernelspec": {
   "display_name": "Python 3.9.7 ('myenv')",
   "language": "python",
   "name": "python3"
  },
  "language_info": {
   "codemirror_mode": {
    "name": "ipython",
    "version": 3
   },
   "file_extension": ".py",
   "mimetype": "text/x-python",
   "name": "python",
   "nbconvert_exporter": "python",
   "pygments_lexer": "ipython3",
   "version": "3.9.7"
  },
  "orig_nbformat": 4,
  "vscode": {
   "interpreter": {
    "hash": "5b50574aca822a4663eeb358827631e5cbe081f130521b0066dec6b864ef6f2f"
   }
  }
 },
 "nbformat": 4,
 "nbformat_minor": 2
}
