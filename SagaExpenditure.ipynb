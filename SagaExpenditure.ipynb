{
 "cells": [
  {
   "attachments": {},
   "cell_type": "markdown",
   "metadata": {},
   "source": [
    "# 課題2: 佐賀県の家計支出"
   ]
  },
  {
   "cell_type": "code",
   "execution_count": null,
   "metadata": {},
   "outputs": [],
   "source": [
    "import pandas\n",
    "import matplotlib.pyplot as plt\n",
    "import japanize_matplotlib"
   ]
  },
  {
   "cell_type": "code",
   "execution_count": null,
   "metadata": {},
   "outputs": [],
   "source": [
    "#url = 'https://www.pref.saga.lg.jp/kiji00395941/3_95941_274337_up_3sgkhq16.xlsx'\n",
    "url = '3_95941_274337_up_3sgkhq16.xlsx'"
   ]
  },
  {
   "cell_type": "code",
   "execution_count": null,
   "metadata": {},
   "outputs": [],
   "source": [
    "colors = ['tomato','green','purple','cyan','violet','pink','bisque','plum','orange','aqua']"
   ]
  },
  {
   "cell_type": "code",
   "execution_count": null,
   "metadata": {},
   "outputs": [],
   "source": [
    "def getData(filename:str):\n",
    "    \"\"\"\n",
    "    Excelファイルを読み込む\n",
    "    \"\"\"\n",
    "    # Excelファイルを読む\n",
    "    with pandas.ExcelFile(filename) as f:\n",
    "        data = pandas.read_excel(f, sheet_name='15-4',header=2, \n",
    "                                 usecols='B,D:K',\n",
    "                                 skiprows=[3,4,5,6,7,8,9],skipfooter=6)\n",
    "    data.rename(columns={'項           目':'項目'},inplace=True)\n",
    "    data.dropna(subset=['項目'],inplace=True)\n",
    "    data.set_index('項目',inplace=True)\n",
    "    \n",
    "    return data"
   ]
  }
 ],
 "metadata": {
  "kernelspec": {
   "display_name": "myenv",
   "language": "python",
   "name": "python3"
  },
  "language_info": {
   "codemirror_mode": {
    "name": "ipython",
    "version": 3
   },
   "file_extension": ".py",
   "mimetype": "text/x-python",
   "name": "python",
   "nbconvert_exporter": "python",
   "pygments_lexer": "ipython3",
   "version": "3.10.8"
  },
  "orig_nbformat": 4
 },
 "nbformat": 4,
 "nbformat_minor": 2
}
