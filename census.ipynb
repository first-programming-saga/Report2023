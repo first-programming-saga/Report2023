{
 "cells": [
  {
   "attachments": {},
   "cell_type": "markdown",
   "metadata": {},
   "source": [
    "# 課題3: 市町村毎の人口割合: 国勢調査"
   ]
  },
  {
   "cell_type": "code",
   "execution_count": null,
   "metadata": {},
   "outputs": [],
   "source": [
    "import pandas\n",
    "import re\n",
    "import matplotlib.pyplot as plt\n",
    "import japanize_matplotlib"
   ]
  },
  {
   "cell_type": "code",
   "execution_count": null,
   "metadata": {},
   "outputs": [],
   "source": [
    "def getData()->tuple[pandas.DataFrame, dict[str,str]]:\n",
    "    \"\"\"\n",
    "    エクセルファイルを読む\n",
    "\n",
    "    Returns\n",
    "    --------\n",
    "    (dataFrame, dict[都道府県名:都道府県コード])\n",
    "    \"\"\"\n",
    "    with pandas.ExcelFile('a01.xlsx') as f:\n",
    "        df = pandas.read_excel(f, header = 8,  skiprows=[9,10,11,12])\n",
    "    df.rename(columns = {'Unnamed: 1':'県名','Unnamed: 2':'市町村名'}, inplace=True)\n",
    "    #課題\n",
    "    #prefDictは、都道府県名->都道府県コードという辞書型\n",
    "    #注意: df['県名']は、先頭にコードを含む\n",
    "\n",
    "\n",
    "\n",
    "\n",
    "\n",
    "    df.drop(columns={'県名'},inplace=True)    \n",
    "    df.drop(columns={'Unnamed: 0'},inplace=True)    \n",
    "    df.set_index('市町村名',inplace=True)\n",
    "    return df, prefDict"
   ]
  },
  {
   "cell_type": "code",
   "execution_count": null,
   "metadata": {},
   "outputs": [],
   "source": [
    "def getPrefData(prefName:str, data:pandas.DataFrame, prefCode:str) -> pandas.DataFrame:\n",
    "    \"\"\"\n",
    "    指定した都道府県のデータをdataFrameとして得る。\n",
    "\n",
    "    Parameters\n",
    "    ------\n",
    "    prefName: 都道府県名\n",
    "    data: 国勢調査データ\n",
    "    prefList: 都道府県コード\n",
    "\n",
    "    Returns\n",
    "    ------\n",
    "    指定した都道府県だけのdataFrame\n",
    "    \"\"\"\n",
    "    pattern = re.compile('^' + prefCode + '.+')\n",
    "    dfNew = pandas.DataFrame(columns = data.columns) #新規dataFrame\n",
    "    for p in data.index:\n",
    "        r = pattern.match(p) \n",
    "        if r != None: #都道府県コードを市町村コードに含む\n",
    "            municipality = r.group()\n",
    "            if prefName.find('東京都') != -1: #東京都の場合は特別区に注意\n",
    "                if municipality.find(prefName) == -1 and municipality.find('特別区') == -1:\n",
    "                    dfNew.loc[municipality[6:]] = data.loc[municipality]\n",
    "            else: #東京都以外は政令指定都市に注意\n",
    "                if municipality.find(prefName) == -1  and municipality.find('区') == -1:\n",
    "                    dfNew.loc[municipality[6:]] = data.loc[municipality]\n",
    "    return dfNew\n"
   ]
  }
 ],
 "metadata": {
  "kernelspec": {
   "display_name": "Python 3.9.7 ('myenv')",
   "language": "python",
   "name": "python3"
  },
  "language_info": {
   "codemirror_mode": {
    "name": "ipython",
    "version": 3
   },
   "file_extension": ".py",
   "mimetype": "text/x-python",
   "name": "python",
   "nbconvert_exporter": "python",
   "pygments_lexer": "ipython3",
   "version": "3.9.7"
  },
  "orig_nbformat": 4,
  "vscode": {
   "interpreter": {
    "hash": "5b50574aca822a4663eeb358827631e5cbe081f130521b0066dec6b864ef6f2f"
   }
  }
 },
 "nbformat": 4,
 "nbformat_minor": 2
}
