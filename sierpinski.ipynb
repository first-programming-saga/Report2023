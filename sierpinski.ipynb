{
 "cells": [
  {
   "attachments": {},
   "cell_type": "markdown",
   "metadata": {},
   "source": [
    "# 課題5: Sierpinskiガスケット"
   ]
  },
  {
   "cell_type": "code",
   "execution_count": null,
   "metadata": {},
   "outputs": [],
   "source": [
    "import matplotlib.pyplot as plt\n",
    "import math\n",
    "import random"
   ]
  },
  {
   "cell_type": "code",
   "execution_count": null,
   "metadata": {},
   "outputs": [],
   "source": [
    "def createData(n:int) -> list[tuple[float,float]]:\n",
    "    \"\"\"\n",
    "    n個の点を生成する\n",
    "    \"\"\"\n",
    "    p = [(0,0),(1,0),(1/2,math.sqrt(3)/2)] #正三角形の三つの頂点\n",
    "    q = (1/2,1/2)\n",
    "    data = list()\n",
    "    for k in range(n):\n",
    "        r = random.randint(0,2)#[0,1,2]のうち一つをでたらめに選ぶ\n",
    "        # q とp[r]の中点をqqとする->課題\n",
    "\n",
    "        data.append(qq)\n",
    "        q = qq\n",
    "    return data"
   ]
  }
 ],
 "metadata": {
  "kernelspec": {
   "display_name": "Python 3.10.2 ('myenv')",
   "language": "python",
   "name": "python3"
  },
  "language_info": {
   "codemirror_mode": {
    "name": "ipython",
    "version": 3
   },
   "file_extension": ".py",
   "mimetype": "text/x-python",
   "name": "python",
   "nbconvert_exporter": "python",
   "pygments_lexer": "ipython3",
   "version": "3.10.2"
  },
  "orig_nbformat": 4,
  "vscode": {
   "interpreter": {
    "hash": "b3b804b6b7a7d9b475cf928428dd1242016eacc24c47853aaf0f8d1d2228aa39"
   }
  }
 },
 "nbformat": 4,
 "nbformat_minor": 2
}
